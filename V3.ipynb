{
  "cells": [
    {
      "cell_type": "markdown",
      "metadata": {},
      "source": [
        "# Import Dependincies "
      ]
    },
    {
      "cell_type": "code",
      "execution_count": 25,
      "metadata": {
        "colab": {
          "base_uri": "https://localhost:8080/"
        },
        "id": "807rmVyEyFmR",
        "outputId": "57e6761f-939b-449b-d32e-8988bb67d223"
      },
      "outputs": [],
      "source": [
        "import pandas as pd\n",
        "import spacy\n",
        "import nltk\n",
        "from collections.abc import Mapping\n",
        "from experta import *"
      ]
    },
    {
      "cell_type": "code",
      "execution_count": null,
      "metadata": {},
      "outputs": [],
      "source": []
    },
    {
      "cell_type": "code",
      "execution_count": 26,
      "metadata": {},
      "outputs": [],
      "source": [
        "# import pandas as pd\n",
        "# import spacy\n",
        "\n",
        "# nlp = spacy.load(\"en_core_web_sm\")\n",
        "\n",
        "# def format_symptoms(symptoms):\n",
        "#     \"\"\"Replaces underscores with spaces in a string.\"\"\"\n",
        "#     return symptoms.replace('_', ' ')\n",
        "\n",
        "# def preprocess_input(user_input):\n",
        "#     \"\"\"\n",
        "#     Lowercases, formats, and preprocesses user input by lemmatizing,\n",
        "#     removing stop words and POS tags that are likely verbs or verb-like in this context.\n",
        "#     \"\"\"\n",
        "#     formatted_input = format_symptoms(user_input.lower())\n",
        "\n",
        "#     doc = nlp(formatted_input)\n",
        "\n",
        "#     remove_pos = ['PRON', 'ADP', 'AUX', 'CONJ', 'SCONJ', 'DET', 'PART', 'VERB']\n",
        "\n",
        "#     processed_symptoms = [token.lemma_ for token in doc\n",
        "#                           if token.is_alpha\n",
        "#                           and not token.is_stop\n",
        "#                           and token.pos_ not in remove_pos]\n",
        "\n",
        "#     final_symptoms = [lemma for lemma in processed_symptoms if nlp(lemma)[0].pos_ not in ['VERB']]\n",
        "\n",
        "#     return final_symptoms\n",
        "\n",
        "# data = pd.read_csv('Medical Diagnosis Expert System.csv')\n",
        "\n",
        "# df = data.copy()\n",
        "# df['symptoms'] = df['symptoms'].apply(preprocess_input)\n",
        "\n",
        "# df.head()\n",
        "\n"
      ]
    },
    {
      "cell_type": "code",
      "execution_count": null,
      "metadata": {},
      "outputs": [],
      "source": [
        "import spacy\n",
        "from spacy.matcher import PhraseMatcher\n",
        "import pandas as pd\n",
        "\n",
        "nlp = spacy.load(\"en_core_web_sm\")\n",
        "df = pd.read_csv('Medical Diagnosis Expert System.csv')\n",
        "\n",
        "\n",
        "symptom_phrases = set()\n",
        "for symptoms in df['symptoms']:\n",
        "    for symptom in symptoms.split(','):\n",
        "        symptom_phrases.add(symptom.replace('_', ' ').strip())\n",
        "\n",
        "matcher = PhraseMatcher(nlp.vocab, attr='LOWER')\n",
        "patterns = [nlp.make_doc(symptom) for symptom in symptom_phrases]\n",
        "matcher.add(\"SYMPTOM\", patterns)\n",
        "\n",
        "def preprocess_input(user_input):\n",
        "    \"\"\"\n",
        "    Extracts known symptom phrases from user input using PhraseMatcher.\n",
        "    Returns a list of matched symptoms from the dataset.\n",
        "    \"\"\"\n",
        "    formatted_input = user_input.lower().replace('_', ' ')\n",
        "    doc = nlp(formatted_input)\n",
        "    matches = matcher(doc)\n",
        "\n",
        "    extracted_symptoms = set()\n",
        "    for match_id, start, end in matches:\n",
        "        span = doc[start:end]\n",
        "        extracted_symptoms.add(span.text.strip())\n",
        "\n",
        "    return list(extracted_symptoms)"
      ]
    },
    {
      "cell_type": "code",
      "execution_count": 28,
      "metadata": {},
      "outputs": [
        {
          "name": "stdout",
          "output_type": "stream",
          "text": [
            "\n",
            "Example Sentence:\n",
            "I have a severe headache and feel very fatigued with a runny nose.\n",
            "Processed Symptoms (Lemmatized, No Verbs):\n",
            "['runny nose', 'headache']\n"
          ]
        }
      ],
      "source": [
        "example_sentence = \"I have a severe headache and feel very fatigued with a runny nose.\"\n",
        "processed_example_no_verbs = preprocess_input(example_sentence)\n",
        "print(\"\\nExample Sentence:\")\n",
        "print(example_sentence)\n",
        "print(\"Processed Symptoms (Lemmatized, No Verbs):\")\n",
        "print(processed_example_no_verbs)"
      ]
    },
    {
      "cell_type": "code",
      "execution_count": 29,
      "metadata": {
        "colab": {
          "base_uri": "https://localhost:8080/",
          "height": 206
        },
        "id": "03q7WgyJDtBy",
        "outputId": "051c2b7c-a502-48af-ecb2-921a1cc8ff6d"
      },
      "outputs": [],
      "source": [
        "# nlp = spacy.load(\"en_core_web_sm\")\n",
        "\n",
        "# data= pd.read_csv('Medical Diagnosis Expert System.csv')\n",
        "# df =data.copy()\n",
        "# df.head()\n",
        "\n",
        "# def format_symptoms(symptoms):\n",
        "#     return symptoms.replace('_', ' ')\n",
        "\n",
        "\n",
        "# def preprocess_input(user_input):\n",
        "#     formatted_input = format_symptoms(user_input.lower())\n",
        "    \n",
        "#     doc = nlp(formatted_input)\n",
        "    \n",
        "#     remove_pos = ['PRON', 'ADP', 'AUX', 'CONJ', 'SCONJ', 'DET', 'PART']\n",
        "    \n",
        "#     symptoms = [token.lemma_ for token in doc\n",
        "#                 if token.is_alpha\n",
        "#                 and not token.is_stop\n",
        "#                 and token.pos_ not in remove_pos]\n",
        "#     return symptoms\n",
        "# df['symptoms'] = df['symptoms'].apply(preprocess_input)\n",
        "\n",
        "# df.head()"
      ]
    },
    {
      "cell_type": "code",
      "execution_count": 30,
      "metadata": {
        "colab": {
          "base_uri": "https://localhost:8080/"
        },
        "id": "-6-w91AQFJ-F",
        "outputId": "b5fd459a-bd38-40f4-bd1f-8d669589632b"
      },
      "outputs": [
        {
          "name": "stdout",
          "output_type": "stream",
          "text": [
            "<class 'str'>\n",
            "<class 'str'>\n",
            "<class 'str'>\n"
          ]
        }
      ],
      "source": [
        "print(type (df['disease'][0]))\n",
        "print(type (df['symptoms'][0]))\n",
        "print(type (df['precautions'][0]))"
      ]
    },
    {
      "cell_type": "code",
      "execution_count": 31,
      "metadata": {},
      "outputs": [],
      "source": [
        "disease_data = {}\n",
        "\n",
        "for _, row in df.iterrows():\n",
        "    disease = row['disease']\n",
        "    if isinstance(row['symptoms'], list):\n",
        "        raw_symptoms = [s.strip() for s in row['symptoms']]\n",
        "    else:\n",
        "        raw_symptoms = [s.strip() for s in str(row['symptoms']).split(',')]\n",
        "    processed_symptoms = set()\n",
        "    for s in raw_symptoms:\n",
        "        processed_symptoms.update(preprocess_input(s))\n",
        "\n",
        "    precautions = [p.strip() for p in str(row['precautions']).split(',') if p]\n",
        "\n",
        "    if disease not in disease_data:\n",
        "        disease_data[disease] = {'symptoms': set(), 'precautions': set()}\n",
        "    disease_data[disease]['symptoms'].update(processed_symptoms)\n",
        "    disease_data[disease]['precautions'].update(precautions)\n",
        "\n",
        "for disease in disease_data:\n",
        "    disease_data[disease]['symptoms'] = sorted(disease_data[disease]['symptoms'])\n",
        "    disease_data[disease]['precautions'] = sorted(disease_data[disease]['precautions'])\n"
      ]
    },
    {
      "cell_type": "code",
      "execution_count": 32,
      "metadata": {},
      "outputs": [
        {
          "name": "stdout",
          "output_type": "stream",
          "text": [
            "['dischromic  patches', 'itching', 'nodal skin eruptions', 'skin rash']\n",
            "['bath twice', 'keep infected area dry', 'use clean cloths', 'use detol or neem in bathing water']\n"
          ]
        }
      ],
      "source": [
        "print(disease_data['Fungal infection']['symptoms'])\n",
        "print(disease_data['Fungal infection']['precautions'])"
      ]
    },
    {
      "cell_type": "code",
      "execution_count": 33,
      "metadata": {},
      "outputs": [
        {
          "name": "stdout",
          "output_type": "stream",
          "text": [
            "Number of diseases: 41\n"
          ]
        }
      ],
      "source": [
        "print(\"Number of diseases:\", len(disease_data))"
      ]
    },
    {
      "cell_type": "code",
      "execution_count": 34,
      "metadata": {},
      "outputs": [],
      "source": [
        "from experta import KnowledgeEngine, Fact, Rule, Field\n",
        "\n",
        "class Symptom(Fact):\n",
        "    name = Field(str, mandatory=True)\n",
        "\n",
        "class Diagnosis(Fact):\n",
        "    disease = Field(str, mandatory=True)\n",
        "\n",
        "class DiseaseDiagnosisEngine(KnowledgeEngine):\n",
        "    def __init__(self, disease_data, input_symptoms):\n",
        "        super().__init__()\n",
        "        self.disease_data = disease_data\n",
        "        self.input_symptoms = set(input_symptoms)\n",
        "        self.possible_diseases = []\n",
        "        self.matching_diseases = set()\n",
        "\n",
        "    @Rule(Symptom(name=MATCH.symptom_name))\n",
        "    def check_symptom(self, symptom_name):\n",
        "        for disease, info in self.disease_data.items():\n",
        "            if symptom_name in info['symptoms']:\n",
        "                if not hasattr(self, f\"matched_symptoms_{disease}\"):\n",
        "                    setattr(self, f\"matched_symptoms_{disease}\", {symptom_name})\n",
        "                else:\n",
        "                    getattr(self, f\"matched_symptoms_{disease}\").add(symptom_name)\n",
        "\n",
        "    def get_diagnosis(self):\n",
        "        self.matching_diseases = set()\n",
        "        self.reset()\n",
        "        for symptom in self.input_symptoms:\n",
        "            self.declare(Symptom(name=symptom))\n",
        "        self.run()\n",
        "\n",
        "        for disease in self.disease_data:\n",
        "            matched_symptoms = getattr(self, f\"matched_symptoms_{disease}\", set())\n",
        "            if self.input_symptoms.issubset(matched_symptoms):\n",
        "                self.matching_diseases.add(disease)\n",
        "            if hasattr(self, f\"matched_symptoms_{disease}\"):\n",
        "                delattr(self, f\"matched_symptoms_{disease}\")\n",
        "\n",
        "        print(\"Diseases with all provided symptoms:\", list(self.matching_diseases))\n",
        "        return list(self.matching_diseases)"
      ]
    },
    {
      "cell_type": "code",
      "execution_count": 35,
      "metadata": {},
      "outputs": [],
      "source": [
        "def get_precautions(disease_name):\n",
        "    return disease_data.get(disease_name, {}).get('precautions', [])\n",
        "\n"
      ]
    },
    {
      "cell_type": "code",
      "execution_count": 38,
      "metadata": {
        "colab": {
          "base_uri": "https://localhost:8080/"
        },
        "id": "eEMDP1F0s0XE",
        "outputId": "c445a1c6-9530-4284-c283-ab567162218e"
      },
      "outputs": [
        {
          "name": "stdout",
          "output_type": "stream",
          "text": [
            "\n",
            "Medical Diagnosis Expert System\n",
            "--------------------------------\n",
            "Describe your symptoms (e.g., 'I have fever and headache'):\n",
            "\n",
            "[Extracted Symptoms]: pus filled pimples, skin rash, scurring\n",
            "\n",
            "[Diagnosis Results]\n",
            "-------------------\n",
            "Diseases with all provided symptoms: ['Acne']\n",
            "Diagnosis: Acne\n",
            "\n",
            "Recommended Precautions:\n",
            "1. avoid fatty spicy food\n",
            "2. avoid too many products\n",
            "3. bath twice\n",
            "4. drink plenty of water\n",
            "\n",
            "Enter more symptoms or type 'exit' to quit.\n",
            "\n",
            "[Extracted Symptoms]: itching, skin rash, dischromic  patches\n",
            "\n",
            "[Diagnosis Results]\n",
            "-------------------\n",
            "Diseases with all provided symptoms: ['Fungal infection']\n",
            "Diagnosis: Fungal infection\n",
            "\n",
            "Recommended Precautions:\n",
            "1. bath twice\n",
            "2. keep infected area dry\n",
            "3. use clean cloths\n",
            "4. use detol or neem in bathing water\n",
            "\n",
            "Enter more symptoms or type 'exit' to quit.\n",
            "\n",
            "[Extracted Symptoms]: sunken eyes, vomiting, diarrhoea\n",
            "\n",
            "[Diagnosis Results]\n",
            "-------------------\n",
            "Diseases with all provided symptoms: ['Gastroenteritis']\n",
            "Diagnosis: Gastroenteritis\n",
            "\n",
            "Recommended Precautions:\n",
            "1. ease back into eating\n",
            "2. rest\n",
            "3. stop eating solid food for while\n",
            "4. try taking small sips of water\n",
            "\n",
            "Enter more symptoms or type 'exit' to quit.\n",
            "\n",
            "[Extracted Symptoms]: sunken eyes, vomiting, diarrhoea\n",
            "\n",
            "[Diagnosis Results]\n",
            "-------------------\n",
            "Diseases with all provided symptoms: ['Gastroenteritis']\n",
            "Diagnosis: Gastroenteritis\n",
            "\n",
            "Recommended Precautions:\n",
            "1. ease back into eating\n",
            "2. rest\n",
            "3. stop eating solid food for while\n",
            "4. try taking small sips of water\n",
            "\n",
            "Enter more symptoms or type 'exit' to quit.\n",
            "\n",
            "[Extracted Symptoms]: sunken eyes, diarrhoea\n",
            "\n",
            "[Diagnosis Results]\n",
            "-------------------\n",
            "Diseases with all provided symptoms: ['Gastroenteritis']\n",
            "Diagnosis: Gastroenteritis\n",
            "\n",
            "Recommended Precautions:\n",
            "1. ease back into eating\n",
            "2. rest\n",
            "3. stop eating solid food for while\n",
            "4. try taking small sips of water\n",
            "\n",
            "Enter more symptoms or type 'exit' to quit.\n",
            "\n",
            "[Extracted Symptoms]: itching, lethargy, loss of appetite, high fever, swelled lymph nodes, skin rash, mild fever, headache\n",
            "\n",
            "[Diagnosis Results]\n",
            "-------------------\n",
            "Diseases with all provided symptoms: ['Chicken pox']\n",
            "Diagnosis: Chicken pox\n",
            "\n",
            "Recommended Precautions:\n",
            "1. avoid public places\n",
            "2. consume neem leaves\n",
            "3. take vaccine\n",
            "4. use neem in bathing\n",
            "\n",
            "Enter more symptoms or type 'exit' to quit.\n",
            "Goodbye!\n"
          ]
        }
      ],
      "source": [
        "\n",
        "def main():\n",
        "    print(\"\\nMedical Diagnosis Expert System\")\n",
        "    print(\"--------------------------------\")\n",
        "    print(\"Describe your symptoms (e.g., 'I have fever and headache'):\")\n",
        "\n",
        "    while True:\n",
        "        user_input = input(\"\\n> \").strip()\n",
        "\n",
        "        if user_input.lower() in ['exit', 'quit']:\n",
        "            print(\"Goodbye!\")\n",
        "            break\n",
        "\n",
        "        if not user_input:\n",
        "            print(\"Please enter your symptoms.\")\n",
        "            continue\n",
        "\n",
        "        symptoms = preprocess_input(user_input)\n",
        "  \n",
        "        if not symptoms:\n",
        "            print(\"No relevant symptoms detected. Please try again.\")\n",
        "            continue\n",
        "\n",
        "        print(f\"\\n[Extracted Symptoms]: {', '.join(symptoms)}\")\n",
        "\n",
        "        print(\"\\n[Diagnosis Results]\")\n",
        "        print(\"-------------------\")\n",
        "\n",
        "\n",
        "        engine = DiseaseDiagnosisEngine(disease_data, symptoms)\n",
        "        engine.reset()\n",
        "        diseases = engine.get_diagnosis()\n",
        "        \n",
        "        # print(f\"Possible Diseases: {', '.join(diseases)}\")\n",
        "\n",
        "        if diseases:\n",
        "            precautions = get_precautions(diseases[0])\n",
        "            print(f\"Diagnosis: {diseases[0]}\")\n",
        "            print(\"\\nRecommended Precautions:\")\n",
        "            for i, precaution in enumerate(precautions, 1):\n",
        "                print(f\"{i}. {precaution}\")\n",
        "        else:\n",
        "            print(\"No matching diseases found.\")\n",
        "            print(\"Please consult a healthcare professional.\")\n",
        "        \n",
        "        print(\"\\nEnter more symptoms or type 'exit' to quit.\")\n",
        "\n",
        "\n",
        "if __name__ == \"__main__\":\n",
        "    main()"
      ]
    },
    {
      "cell_type": "code",
      "execution_count": null,
      "metadata": {},
      "outputs": [],
      "source": []
    }
  ],
  "metadata": {
    "colab": {
      "provenance": []
    },
    "kernelspec": {
      "display_name": "cognitive",
      "language": "python",
      "name": "python3"
    },
    "language_info": {
      "codemirror_mode": {
        "name": "ipython",
        "version": 3
      },
      "file_extension": ".py",
      "mimetype": "text/x-python",
      "name": "python",
      "nbconvert_exporter": "python",
      "pygments_lexer": "ipython3",
      "version": "3.12.3"
    }
  },
  "nbformat": 4,
  "nbformat_minor": 0
}
