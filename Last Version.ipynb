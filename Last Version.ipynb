{
  "cells": [
    {
      "cell_type": "markdown",
      "metadata": {},
      "source": [
        "# Import Dependincies "
      ]
    },
    {
      "cell_type": "code",
      "execution_count": 1,
      "metadata": {
        "colab": {
          "base_uri": "https://localhost:8080/"
        },
        "id": "807rmVyEyFmR",
        "outputId": "57e6761f-939b-449b-d32e-8988bb67d223"
      },
      "outputs": [],
      "source": [
        "import pandas as pd\n",
        "import spacy\n",
        "import nltk\n",
        "from collections.abc import Mapping\n",
        "from experta import *\n",
        "from spacy.matcher import PhraseMatcher\n",
        "from experta import KnowledgeEngine, Fact, Rule, Field\n",
        "nlp = spacy.load(\"en_core_web_sm\")"
      ]
    },
    {
      "cell_type": "code",
      "execution_count": 14,
      "metadata": {},
      "outputs": [],
      "source": [
        "df = pd.read_csv('Medical Diagnosis Expert System.csv')\n"
      ]
    },
    {
      "cell_type": "code",
      "execution_count": 15,
      "metadata": {},
      "outputs": [
        {
          "name": "stdout",
          "output_type": "stream",
          "text": [
            "<class 'pandas.core.frame.DataFrame'>\n",
            "RangeIndex: 4920 entries, 0 to 4919\n",
            "Data columns (total 3 columns):\n",
            " #   Column       Non-Null Count  Dtype \n",
            "---  ------       --------------  ----- \n",
            " 0   disease      4920 non-null   object\n",
            " 1   symptoms     4920 non-null   object\n",
            " 2   precautions  4560 non-null   object\n",
            "dtypes: object(3)\n",
            "memory usage: 115.4+ KB\n"
          ]
        }
      ],
      "source": [
        "df.info()"
      ]
    },
    {
      "cell_type": "code",
      "execution_count": 3,
      "metadata": {},
      "outputs": [],
      "source": [
        "symptom_phrases = set()\n",
        "for symptoms in df['symptoms']:\n",
        "    for symptom in symptoms.split(','):\n",
        "        symptom_phrases.add(symptom.replace('_', ' ').strip())\n",
        "\n",
        "matcher = PhraseMatcher(nlp.vocab, attr='LOWER')\n",
        "patterns = [nlp.make_doc(symptom) for symptom in symptom_phrases]\n",
        "matcher.add(\"SYMPTOM\", patterns)\n",
        "\n",
        "def preprocess_input(user_input):\n",
        "    \"\"\"\n",
        "    Extracts known symptom phrases from user input using PhraseMatcher.\n",
        "    Returns a list of matched symptoms from the dataset.\n",
        "    \"\"\"\n",
        "    formatted_input = user_input.lower().replace('_', ' ')\n",
        "    doc = nlp(formatted_input)\n",
        "    matches = matcher(doc)\n",
        "\n",
        "    extracted_symptoms = set()\n",
        "    for match_id, start, end in matches:\n",
        "        span = doc[start:end]\n",
        "        extracted_symptoms.add(span.text.strip())\n",
        "\n",
        "    return list(extracted_symptoms)"
      ]
    },
    {
      "cell_type": "code",
      "execution_count": 4,
      "metadata": {},
      "outputs": [
        {
          "name": "stdout",
          "output_type": "stream",
          "text": [
            "Example Sentence:\n",
            "I have a severe headache and feel very fatigued with a runny nose.\n",
            "Processed Symptoms \n",
            "['runny nose', 'headache']\n"
          ]
        }
      ],
      "source": [
        "example_sentence = \"I have a severe headache and feel very fatigued with a runny nose.\"\n",
        "processed_example_no_verbs = preprocess_input(example_sentence)\n",
        "print(\"Example Sentence:\")\n",
        "print(example_sentence)\n",
        "print(\"Processed Symptoms \")\n",
        "print(processed_example_no_verbs)"
      ]
    },
    {
      "cell_type": "code",
      "execution_count": 5,
      "metadata": {
        "colab": {
          "base_uri": "https://localhost:8080/"
        },
        "id": "-6-w91AQFJ-F",
        "outputId": "b5fd459a-bd38-40f4-bd1f-8d669589632b"
      },
      "outputs": [
        {
          "name": "stdout",
          "output_type": "stream",
          "text": [
            "<class 'str'>\n",
            "<class 'str'>\n",
            "<class 'str'>\n"
          ]
        }
      ],
      "source": [
        "print(type (df['disease'][0]))\n",
        "print(type (df['symptoms'][0]))\n",
        "print(type (df['precautions'][0]))"
      ]
    },
    {
      "cell_type": "code",
      "execution_count": 6,
      "metadata": {},
      "outputs": [],
      "source": [
        "disease_data = {}\n",
        "\n",
        "for _, row in df.iterrows():\n",
        "    disease = row['disease']\n",
        "    if isinstance(row['symptoms'], list):\n",
        "        raw_symptoms = [s.strip() for s in row['symptoms']]\n",
        "    else:\n",
        "        raw_symptoms = [s.strip() for s in str(row['symptoms']).split(',')]\n",
        "    processed_symptoms = set()\n",
        "    for s in raw_symptoms:\n",
        "        processed_symptoms.update(preprocess_input(s))\n",
        "\n",
        "    precautions = [p.strip() for p in str(row['precautions']).split(',') if p]\n",
        "\n",
        "    if disease not in disease_data:\n",
        "        disease_data[disease] = {'symptoms': set(), 'precautions': set()}\n",
        "    disease_data[disease]['symptoms'].update(processed_symptoms)\n",
        "    disease_data[disease]['precautions'].update(precautions)\n",
        "\n",
        "for disease in disease_data:\n",
        "    disease_data[disease]['symptoms'] = sorted(disease_data[disease]['symptoms'])\n",
        "    disease_data[disease]['precautions'] = sorted(disease_data[disease]['precautions'])\n"
      ]
    },
    {
      "cell_type": "code",
      "execution_count": 7,
      "metadata": {},
      "outputs": [
        {
          "name": "stdout",
          "output_type": "stream",
          "text": [
            "['dischromic  patches', 'itching', 'nodal skin eruptions', 'skin rash']\n",
            "['bath twice', 'keep infected area dry', 'use clean cloths', 'use detol or neem in bathing water']\n"
          ]
        }
      ],
      "source": [
        "print(disease_data['Fungal infection']['symptoms'])\n",
        "print(disease_data['Fungal infection']['precautions'])"
      ]
    },
    {
      "cell_type": "code",
      "execution_count": 8,
      "metadata": {},
      "outputs": [
        {
          "name": "stdout",
          "output_type": "stream",
          "text": [
            "Number of diseases: 38\n"
          ]
        }
      ],
      "source": [
        "print(\"Number of diseases:\", len(disease_data))"
      ]
    },
    {
      "cell_type": "code",
      "execution_count": 9,
      "metadata": {},
      "outputs": [],
      "source": [
        "\n",
        "class Symptom(Fact):\n",
        "    name = Field(str, mandatory=True)\n",
        "\n",
        "class Diagnosis(Fact):\n",
        "    disease = Field(str, mandatory=True)\n",
        "\n",
        "class DiseaseDiagnosisEngine(KnowledgeEngine):\n",
        "    def __init__(self, disease_data, input_symptoms):\n",
        "        super().__init__()\n",
        "        self.disease_data = disease_data\n",
        "        self.input_symptoms = set(input_symptoms)\n",
        "        self.possible_diseases = []\n",
        "        self.matching_diseases = set()\n",
        "\n",
        "    @Rule(Symptom(name=MATCH.symptom_name))\n",
        "    def check_symptom(self, symptom_name):\n",
        "        for disease, info in self.disease_data.items():\n",
        "            if symptom_name in info['symptoms']:\n",
        "                if not hasattr(self, f\"matched_symptoms_{disease}\"):\n",
        "                    setattr(self, f\"matched_symptoms_{disease}\", {symptom_name})\n",
        "                else:\n",
        "                    getattr(self, f\"matched_symptoms_{disease}\").add(symptom_name)\n",
        "\n",
        "    def get_diagnosis(self):\n",
        "        self.matching_diseases = set()\n",
        "        self.reset()\n",
        "        for symptom in self.input_symptoms:\n",
        "            self.declare(Symptom(name=symptom))\n",
        "        self.run()\n",
        "\n",
        "        for disease in self.disease_data:\n",
        "            matched_symptoms = getattr(self, f\"matched_symptoms_{disease}\", set())\n",
        "            if self.input_symptoms.issubset(matched_symptoms):\n",
        "                self.matching_diseases.add(disease)\n",
        "            if hasattr(self, f\"matched_symptoms_{disease}\"):\n",
        "                delattr(self, f\"matched_symptoms_{disease}\")\n",
        "\n",
        "        print(\"Diseases with all provided symptoms:\", list(self.matching_diseases))\n",
        "        return list(self.matching_diseases)"
      ]
    },
    {
      "cell_type": "code",
      "execution_count": 10,
      "metadata": {},
      "outputs": [],
      "source": [
        "def get_precautions(disease_name):\n",
        "    return disease_data.get(disease_name, {}).get('precautions', [])\n",
        "\n"
      ]
    },
    {
      "cell_type": "code",
      "execution_count": 11,
      "metadata": {
        "colab": {
          "base_uri": "https://localhost:8080/"
        },
        "id": "eEMDP1F0s0XE",
        "outputId": "c445a1c6-9530-4284-c283-ab567162218e"
      },
      "outputs": [
        {
          "name": "stdout",
          "output_type": "stream",
          "text": [
            "\n",
            "Medical Diagnosis Expert System\n",
            "--------------------------------\n",
            "Describe your symptoms (e.g., 'I have fever and headache'):\n",
            "\n",
            "[Extracted Symptoms]: malaise, headache, mild fever, lethargy, high fever, swelled lymph nodes, red spots over body, itching, loss of appetite, skin rash\n",
            "\n",
            "[Diagnosis Results]\n",
            "-------------------\n",
            "Diseases with all provided symptoms: ['Chicken pox']\n",
            "Diagnosis: Chicken pox\n",
            "\n",
            "Recommended Precautions:\n",
            "1. avoid public places\n",
            "2. consume neem leaves\n",
            "3. take vaccine\n",
            "4. use neem in bathing\n",
            "\n",
            "Enter more symptoms or type 'exit' to quit.\n",
            "Please enter your symptoms.\n",
            "\n",
            "[Extracted Symptoms]: yellowing of eyes, yellowish skin, acute liver failure, high fever, vomiting, loss of appetite, coma, stomach bleeding, abdominal pain, nausea, dark urine\n",
            "\n",
            "[Diagnosis Results]\n",
            "-------------------\n",
            "Diseases with all provided symptoms: ['Hepatitis E']\n",
            "Diagnosis: Hepatitis E\n",
            "\n",
            "Recommended Precautions:\n",
            "1. consult doctor\n",
            "2. medication\n",
            "3. rest\n",
            "4. stop alcohol consumption\n",
            "\n",
            "Enter more symptoms or type 'exit' to quit.\n",
            "Goodbye!\n"
          ]
        }
      ],
      "source": [
        "\n",
        "def main():\n",
        "    print(\"\\nMedical Diagnosis Expert System\")\n",
        "    print(\"--------------------------------\")\n",
        "    print(\"Describe your symptoms (e.g., 'I have fever and headache'):\")\n",
        "\n",
        "    while True:\n",
        "        user_input = input(\"\\n> \").strip()\n",
        "\n",
        "        if user_input.lower() in ['exit', 'quit']:\n",
        "            print(\"Goodbye!\")\n",
        "            break\n",
        "\n",
        "        if not user_input:\n",
        "            print(\"Please enter your symptoms.\")\n",
        "            continue\n",
        "\n",
        "        symptoms = preprocess_input(user_input)\n",
        "  \n",
        "        if not symptoms:\n",
        "            print(\"No relevant symptoms detected. Please try again.\")\n",
        "            continue\n",
        "\n",
        "        print(f\"\\n[Extracted Symptoms]: {', '.join(symptoms)}\")\n",
        "\n",
        "        print(\"\\n[Diagnosis Results]\")\n",
        "        print(\"-------------------\")\n",
        "\n",
        "\n",
        "        engine = DiseaseDiagnosisEngine(disease_data, symptoms)\n",
        "        engine.reset()\n",
        "        diseases = engine.get_diagnosis()\n",
        "        \n",
        "        # print(f\"Possible Diseases: {', '.join(diseases)}\")\n",
        "\n",
        "        if diseases:\n",
        "            precautions = get_precautions(diseases[0])\n",
        "            print(f\"Diagnosis: {diseases[0]}\")\n",
        "            print(\"\\nRecommended Precautions:\")\n",
        "            for i, precaution in enumerate(precautions, 1):\n",
        "                print(f\"{i}. {precaution}\")\n",
        "        else:\n",
        "            print(\"No matching diseases found.\")\n",
        "            print(\"Please consult a healthcare professional.\")\n",
        "        \n",
        "        print(\"\\nEnter more symptoms or type 'exit' to quit.\")\n",
        "\n",
        "\n",
        "if __name__ == \"__main__\":\n",
        "    main()"
      ]
    },
    {
      "cell_type": "code",
      "execution_count": null,
      "metadata": {},
      "outputs": [],
      "source": []
    }
  ],
  "metadata": {
    "colab": {
      "provenance": []
    },
    "kernelspec": {
      "display_name": "cognitive",
      "language": "python",
      "name": "python3"
    },
    "language_info": {
      "codemirror_mode": {
        "name": "ipython",
        "version": 3
      },
      "file_extension": ".py",
      "mimetype": "text/x-python",
      "name": "python",
      "nbconvert_exporter": "python",
      "pygments_lexer": "ipython3",
      "version": "3.12.3"
    }
  },
  "nbformat": 4,
  "nbformat_minor": 0
}
